{
 "cells": [
  {
   "cell_type": "code",
   "execution_count": 7,
   "metadata": {},
   "outputs": [],
   "source": [
    "REPLICATE_API_TOKEN = \"r8_fS0XoYUbgQyhYhhpNjIZfCF8I9oWWVV1BZTKk\"\n",
    "import replicate\n"
   ]
  },
  {
   "cell_type": "code",
   "execution_count": 1,
   "metadata": {},
   "outputs": [
    {
     "ename": "SyntaxError",
     "evalue": "EOL while scanning string literal (1631666782.py, line 5)",
     "output_type": "error",
     "traceback": [
      "\u001b[0;36m  Cell \u001b[0;32mIn[1], line 5\u001b[0;36m\u001b[0m\n\u001b[0;31m    prompt2 = \"A model wearing a cozy Christmas sweater, standing by the fireplace with stockings and holiday decorations.\"\"\u001b[0m\n\u001b[0m                                                                                                                            ^\u001b[0m\n\u001b[0;31mSyntaxError\u001b[0m\u001b[0;31m:\u001b[0m EOL while scanning string literal\n"
     ]
    }
   ],
   "source": [
    "gender = \"f\"\n",
    "gender_clothing = {\"m\": \"shirtless\", \"f\": \"wearing bikini\", \"default\": \"wearing long swim shorts\"}\n",
    "\n",
    "prompt1 =\"headshot of smiling model posing with a lot of cute puppies wearing casual clothes posing for dating app headshot. indoor blurry background. the lighting is warm, possibly from a setting sun, creating a soft glow around him, enhancing the casual and relaxed vibe of the image. the setting seems to be outdoors, likely in an urban environment, with the blurred background hinting at a street or park-like area. this image likely portrays a youthful, active, and approachable individual, possibly in a lifestyle or fashion-related context.\"\n",
    "prompt2 = \"A model wearing a cozy Christmas sweater, standing by the fireplace with stockings and holiday decorations.\"\n",
    "prompt3 = \"pov photo of model seated at restaurant table across from camera, in romantic upscale setting facing camera. medium rare steak is on the table sliced into several pieces, on a wooden board, which also has a small dish of what appears to be a side condiment or salsa with chopped vegetables.\"\n",
    "prompt4 = \"professional headshot of smiling model wearing professional clothes posing for headshot. blurry indoor office background. The overall vibe of the image is one of professionalism, likely intended for a formal or business-related setting, such as a corporate headshot or a professional profile picture.\"\n",
    "prompt5 = \"TedX speaker model holding microphone with lanyard around his neck\"\n",
    "prompt6 = \"beautiful influencer instagram model wearing elegant clothes sitting in private jet cabin, with leather interior, luxurious. champagne is on the table. outside is clouds because we are flying.\"\n",
    "prompt7 = \"model as fashion model in fashion shoot on catwalk.\"\n",
    "prompt8 = \"model as fashion model in street style shoot with diverse outfits.\"\n",
    "prompt9 = f\"the photo shows a fit, {gender_clothing.get(gender, gender_clothing['default'])} happy model on the beach, playing volleyball, seemingly in preparation for a serve. model appears focused, with their gaze fixed on the ball. the background includes other beachgoers and beach equipment, but they are slightly blurred, emphasizing the model as the focal point. the model has a muscular build, with defined arms, chest, and abs. the volleyball holding is a mikasa brand, commonly used in beach volleyball. the setting suggests a warm, sunny day, perfect for beach activities.\"\n",
    "prompt10 = \"model wearing casual clothes in polaroid classic photograph posing for photo indoors\"\n",
    "prompt11 = \"casual profile headshot photo of model for Twitter. hasselblad photography.\"\n",
    "\n",
    "\n"
   ]
  },
  {
   "cell_type": "code",
   "execution_count": 9,
   "metadata": {},
   "outputs": [],
   "source": [
    "replicate = replicate.Client(api_token=REPLICATE_API_TOKEN)  # Initialize the client with the token"
   ]
  },
  {
   "cell_type": "code",
   "execution_count": 10,
   "metadata": {},
   "outputs": [
    {
     "name": "stdout",
     "output_type": "stream",
     "text": [
      "[<replicate.helpers.FileOutput object at 0x106114a90>, <replicate.helpers.FileOutput object at 0x105215d30>]\n"
     ]
    }
   ],
   "source": [
    "model_id = \"i-aayush/my-flux:9010d504cf84e942e2fdd0d5f08b8fa45a63905407e66ab4b036df51a2460569\"\n",
    "trigger_word = \"aayu\"\n",
    "prompt1 =f\"headshot of smiling {trigger_word} posing with a lot of cute puppies wearing casual clothes posing for dating app headshot. indoor blurry background. the lighting is warm, possibly from a setting sun, creating a soft glow around him, enhancing the casual and relaxed vibe of the image. the setting seems to be outdoors, likely in an urban environment, with the blurred background hinting at a street or park-like area. this image likely portrays a youthful, active, and approachable individual, possibly in a lifestyle or fashion-related context.\"\n",
    "output = replicate.run(\n",
    "    model_id,\n",
    "    input={\n",
    "        \"model\": \"dev\",\n",
    "        \"prompt\": prompt1,\n",
    "        \"go_fast\": False,\n",
    "        \"lora_scale\": 1,\n",
    "        \"megapixels\": \"1\",\n",
    "        \"num_outputs\": 2,\n",
    "        \"aspect_ratio\": \"1:1\",\n",
    "        \"output_format\": \"png\",\n",
    "        \"guidance_scale\": 3,\n",
    "        \"output_quality\": 100,\n",
    "        \"prompt_strength\": 0.96,\n",
    "        \"extra_lora_scale\": 1,\n",
    "        \"num_inference_steps\": 41\n",
    "    }\n",
    ")\n",
    "print(output)"
   ]
  },
  {
   "cell_type": "code",
   "execution_count": 13,
   "metadata": {},
   "outputs": [
    {
     "name": "stdout",
     "output_type": "stream",
     "text": [
      "[<replicate.helpers.FileOutput object at 0x106114a90>, <replicate.helpers.FileOutput object at 0x105215d30>]\n"
     ]
    }
   ],
   "source": [
    "print(output)"
   ]
  },
  {
   "cell_type": "code",
   "execution_count": 14,
   "metadata": {},
   "outputs": [
    {
     "name": "stdout",
     "output_type": "stream",
     "text": [
      "Output 1: https://replicate.delivery/xezq/rZvwtSR7NsINK9ooEf8m47brPK80SbtsqQQhe6fAkDKvcODoA/out-0.png\n",
      "Output 2: https://replicate.delivery/xezq/TxNiQ7jbPjYvMNn1XCdSVyFafjj5VoFtUySrgf6Tq87XOnBUA/out-1.png\n"
     ]
    }
   ],
   "source": [
    "# Assuming 'output' contains the list of FileOutput objects\n",
    "for i, file_output in enumerate(output):\n",
    "    file_url = file_output.url  # This attribute typically contains the URL\n",
    "    print(f\"Output {i + 1}: {file_url}\")  # Print the URL of each output file"
   ]
  },
  {
   "cell_type": "code",
   "execution_count": null,
   "metadata": {},
   "outputs": [],
   "source": []
  }
 ],
 "metadata": {
  "kernelspec": {
   "display_name": "Python 3",
   "language": "python",
   "name": "python3"
  },
  "language_info": {
   "codemirror_mode": {
    "name": "ipython",
    "version": 3
   },
   "file_extension": ".py",
   "mimetype": "text/x-python",
   "name": "python",
   "nbconvert_exporter": "python",
   "pygments_lexer": "ipython3",
   "version": "3.9.6"
  }
 },
 "nbformat": 4,
 "nbformat_minor": 2
}
